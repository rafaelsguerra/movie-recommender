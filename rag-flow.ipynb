{
 "cells": [
  {
   "cell_type": "code",
   "execution_count": null,
   "metadata": {},
   "outputs": [
    {
     "name": "stderr",
     "output_type": "stream",
     "text": [
      "/home/rafaelsguerra/.local/share/virtualenvs/rag-project-ARFeLLCJ/lib/python3.10/site-packages/tqdm/auto.py:21: TqdmWarning: IProgress not found. Please update jupyter and ipywidgets. See https://ipywidgets.readthedocs.io/en/stable/user_install.html\n",
      "  from .autonotebook import tqdm as notebook_tqdm\n"
     ]
    }
   ],
   "source": [
    "import json\n",
    "import numpy as np\n",
    "import pandas as pd\n",
    "\n",
    "from elasticsearch import Elasticsearch\n",
    "from openai import OpenAI\n",
    "from sentence_transformers import SentenceTransformer\n",
    "from tqdm import tqdm"
   ]
  },
  {
   "cell_type": "markdown",
   "metadata": {},
   "source": [
    "# RAG Flow"
   ]
  },
  {
   "cell_type": "markdown",
   "metadata": {},
   "source": [
    "## 1. Load dataset"
   ]
  },
  {
   "cell_type": "code",
   "execution_count": 2,
   "metadata": {},
   "outputs": [],
   "source": [
    "data = pd.read_csv(\"rotten_tomatoes/movies_at_home.csv\")"
   ]
  },
  {
   "cell_type": "code",
   "execution_count": 3,
   "metadata": {},
   "outputs": [
    {
     "data": {
      "text/html": [
       "<div>\n",
       "<style scoped>\n",
       "    .dataframe tbody tr th:only-of-type {\n",
       "        vertical-align: middle;\n",
       "    }\n",
       "\n",
       "    .dataframe tbody tr th {\n",
       "        vertical-align: top;\n",
       "    }\n",
       "\n",
       "    .dataframe thead th {\n",
       "        text-align: right;\n",
       "    }\n",
       "</style>\n",
       "<table border=\"1\" class=\"dataframe\">\n",
       "  <thead>\n",
       "    <tr style=\"text-align: right;\">\n",
       "      <th></th>\n",
       "      <th>title</th>\n",
       "      <th>synopsis</th>\n",
       "      <th>consensus</th>\n",
       "      <th>critics_score</th>\n",
       "      <th>audience_score</th>\n",
       "      <th>director</th>\n",
       "      <th>producer</th>\n",
       "      <th>screenwriter</th>\n",
       "      <th>distributor</th>\n",
       "      <th>production_co</th>\n",
       "      <th>...</th>\n",
       "      <th>genre</th>\n",
       "      <th>original_language</th>\n",
       "      <th>release_date_theaters</th>\n",
       "      <th>rerelease_date_theaters</th>\n",
       "      <th>release_date_streaming</th>\n",
       "      <th>box_office</th>\n",
       "      <th>runtime</th>\n",
       "      <th>sound_mix</th>\n",
       "      <th>aspect_ratio</th>\n",
       "      <th>rating_details</th>\n",
       "    </tr>\n",
       "  </thead>\n",
       "  <tbody>\n",
       "    <tr>\n",
       "      <th>0</th>\n",
       "      <td>The Substance</td>\n",
       "      <td>Have you ever dreamt of a better version of yo...</td>\n",
       "      <td>Audaciously gross, wickedly clever, and possib...</td>\n",
       "      <td>90%</td>\n",
       "      <td>74%</td>\n",
       "      <td>Coralie Fargeat</td>\n",
       "      <td>Coralie Fargeat, Eric Fellner, Tim Bevan</td>\n",
       "      <td>Coralie Fargeat</td>\n",
       "      <td>MUBI</td>\n",
       "      <td>Working Title Films</td>\n",
       "      <td>...</td>\n",
       "      <td>Horror, Drama</td>\n",
       "      <td>English</td>\n",
       "      <td>Sep 20, 2024, Wide</td>\n",
       "      <td>NaN</td>\n",
       "      <td>Oct 31, 2024</td>\n",
       "      <td>$15.5M</td>\n",
       "      <td>2h 21m</td>\n",
       "      <td>Dolby Digital</td>\n",
       "      <td>Digital 2.39:1</td>\n",
       "      <td>Graphic Nudity, Gore, Language, Strong Violent...</td>\n",
       "    </tr>\n",
       "    <tr>\n",
       "      <th>1</th>\n",
       "      <td>The Wild Robot</td>\n",
       "      <td>The epic adventure follows the journey of a ro...</td>\n",
       "      <td>A simple tale told with great sophistication, ...</td>\n",
       "      <td>98%</td>\n",
       "      <td>98%</td>\n",
       "      <td>Christopher Sanders</td>\n",
       "      <td>Jeff Hermann</td>\n",
       "      <td>Christopher Sanders</td>\n",
       "      <td>Universal Pictures</td>\n",
       "      <td>DreamWorks Animation</td>\n",
       "      <td>...</td>\n",
       "      <td>Kids &amp; Family, Adventure, Animation</td>\n",
       "      <td>English</td>\n",
       "      <td>Sep 27, 2024, Wide</td>\n",
       "      <td>NaN</td>\n",
       "      <td>Oct 15, 2024</td>\n",
       "      <td>NaN</td>\n",
       "      <td>1h 42m</td>\n",
       "      <td>Dolby Digital</td>\n",
       "      <td>Scope (2.35:1)</td>\n",
       "      <td>Thematic Elements, Action/Peril</td>\n",
       "    </tr>\n",
       "  </tbody>\n",
       "</table>\n",
       "<p>2 rows × 21 columns</p>\n",
       "</div>"
      ],
      "text/plain": [
       "            title                                           synopsis  \\\n",
       "0   The Substance  Have you ever dreamt of a better version of yo...   \n",
       "1  The Wild Robot  The epic adventure follows the journey of a ro...   \n",
       "\n",
       "                                           consensus critics_score  \\\n",
       "0  Audaciously gross, wickedly clever, and possib...           90%   \n",
       "1  A simple tale told with great sophistication, ...           98%   \n",
       "\n",
       "  audience_score             director  \\\n",
       "0            74%      Coralie Fargeat   \n",
       "1            98%  Christopher Sanders   \n",
       "\n",
       "                                   producer         screenwriter  \\\n",
       "0  Coralie Fargeat, Eric Fellner, Tim Bevan      Coralie Fargeat   \n",
       "1                              Jeff Hermann  Christopher Sanders   \n",
       "\n",
       "          distributor         production_co  ...  \\\n",
       "0                MUBI   Working Title Films  ...   \n",
       "1  Universal Pictures  DreamWorks Animation  ...   \n",
       "\n",
       "                                 genre original_language  \\\n",
       "0                        Horror, Drama           English   \n",
       "1  Kids & Family, Adventure, Animation           English   \n",
       "\n",
       "  release_date_theaters rerelease_date_theaters release_date_streaming  \\\n",
       "0    Sep 20, 2024, Wide                     NaN           Oct 31, 2024   \n",
       "1    Sep 27, 2024, Wide                     NaN           Oct 15, 2024   \n",
       "\n",
       "  box_office runtime      sound_mix    aspect_ratio  \\\n",
       "0     $15.5M  2h 21m  Dolby Digital  Digital 2.39:1   \n",
       "1        NaN  1h 42m  Dolby Digital  Scope (2.35:1)   \n",
       "\n",
       "                                      rating_details  \n",
       "0  Graphic Nudity, Gore, Language, Strong Violent...  \n",
       "1                    Thematic Elements, Action/Peril  \n",
       "\n",
       "[2 rows x 21 columns]"
      ]
     },
     "execution_count": 3,
     "metadata": {},
     "output_type": "execute_result"
    }
   ],
   "source": [
    "data.head(2)"
   ]
  },
  {
   "cell_type": "code",
   "execution_count": 4,
   "metadata": {},
   "outputs": [],
   "source": [
    "data = data.drop([\"distributor\", \"production_co\", \"rerelease_date_theaters\", \"sound_mix\", \"aspect_ratio\", \"rating_details\"], axis=1)"
   ]
  },
  {
   "cell_type": "markdown",
   "metadata": {},
   "source": [
    "## 2. Setting embedding model"
   ]
  },
  {
   "cell_type": "code",
   "execution_count": 5,
   "metadata": {},
   "outputs": [],
   "source": [
    "embedding_model = SentenceTransformer(\"multi-qa-distilbert-cos-v1\")\n",
    "\n",
    "user_question = \"Which movies Peter Jackson directed?\"\n",
    "encoded_question = embedding_model.encode(user_question)"
   ]
  },
  {
   "cell_type": "markdown",
   "metadata": {},
   "source": [
    "## 3. Creating embeddings"
   ]
  },
  {
   "cell_type": "code",
   "execution_count": 6,
   "metadata": {},
   "outputs": [],
   "source": [
    "records = json.loads(data.to_json(orient='records'))"
   ]
  },
  {
   "cell_type": "code",
   "execution_count": 7,
   "metadata": {},
   "outputs": [
    {
     "data": {
      "text/plain": [
       "{'title': 'The Substance',\n",
       " 'synopsis': \"Have you ever dreamt of a better version of yourself? You, only better in every way. You should try this new product, it's called The Substance. IT CHANGED MY LIFE. With The Substance, you can generate another you: younger, more beautiful, more perfect. You just have to share time -- one week for one, one week for the other. A perfect balance of seven days each... Easy right? If you respect the balance... What could possibly go wrong?\",\n",
       " 'consensus': \"Audaciously gross, wickedly clever, and possibly Demi Moore's finest hour, The Substance is a gasp-inducing feat from writer-director Coralie Fargeat.\",\n",
       " 'critics_score': '90%',\n",
       " 'audience_score': '74%',\n",
       " 'director': 'Coralie Fargeat',\n",
       " 'producer': 'Coralie Fargeat, Eric Fellner, Tim Bevan',\n",
       " 'screenwriter': 'Coralie Fargeat',\n",
       " 'rating': 'R ',\n",
       " 'genre': 'Horror, Drama',\n",
       " 'original_language': 'English',\n",
       " 'release_date_theaters': 'Sep 20, 2024, Wide',\n",
       " 'release_date_streaming': 'Oct 31, 2024',\n",
       " 'box_office': '$15.5M',\n",
       " 'runtime': '2h 21m'}"
      ]
     },
     "execution_count": 7,
     "metadata": {},
     "output_type": "execute_result"
    }
   ],
   "source": [
    "records[0]"
   ]
  },
  {
   "cell_type": "code",
   "execution_count": 8,
   "metadata": {},
   "outputs": [
    {
     "name": "stderr",
     "output_type": "stream",
     "text": [
      "100%|██████████| 9969/9969 [00:30<00:00, 324.40it/s]\n"
     ]
    }
   ],
   "source": [
    "embeddings = []\n",
    "\n",
    "for document in tqdm(records):\n",
    "    syn_con_dir_gen = f\"{document['synopsis']} {document['consensus']} {document['director']} {document['genre']}\"\n",
    "    embeddings.append(embedding_model.encode(syn_con_dir_gen))"
   ]
  },
  {
   "cell_type": "markdown",
   "metadata": {},
   "source": [
    "## 4. Search test"
   ]
  },
  {
   "cell_type": "code",
   "execution_count": 9,
   "metadata": {},
   "outputs": [
    {
     "name": "stdout",
     "output_type": "stream",
     "text": [
      "Max score: 0.5363765\n",
      "Index: 1758\n"
     ]
    }
   ],
   "source": [
    "X = np.array(embeddings)\n",
    "scores = X.dot(encoded_question)\n",
    "max_score = scores.max()\n",
    "\n",
    "print(\"Max score:\",max_score)\n",
    "print(\"Index:\", np.argsort(scores)[-1])"
   ]
  },
  {
   "cell_type": "code",
   "execution_count": 10,
   "metadata": {},
   "outputs": [
    {
     "data": {
      "text/plain": [
       "{'title': 'King Kong',\n",
       " 'synopsis': \"Peter Jackson's expansive remake of the 1933 classic follows director Carl Denham (Jack Black) and his crew on a journey from New York City to the ominous Skull Island to film a new movie. Accompanying him are playwright Jack Driscoll (Adrien Brody) and actress Ann Darrow (Naomi Watts), who is whisked away by the monstrous ape, Kong, after they reach the island. The crew encounters dinosaurs and other creatures as they race to rescue Ann, while the actress forms a bond with her simian captor.\",\n",
       " 'consensus': \"Featuring state-of-the-art special effects, terrific performances, and a majestic sense of spectacle, Peter Jackson's remake of King Kong is a potent epic that's faithful to the spirit of the 1933 original.\",\n",
       " 'critics_score': '84%',\n",
       " 'audience_score': '50%',\n",
       " 'director': 'Peter Jackson',\n",
       " 'producer': 'Jan Blenkin, Carolynne Cunningham, Fran Walsh',\n",
       " 'screenwriter': 'Merian C. Cooper, Edgar Wallace, Fran Walsh, Peter Jackson, Philippa Boyens',\n",
       " 'rating': 'PG-13 ',\n",
       " 'genre': 'Adventure, Action, Fantasy',\n",
       " 'original_language': 'English',\n",
       " 'release_date_theaters': 'Dec 14, 2005, Wide',\n",
       " 'release_date_streaming': 'Oct 1, 2015',\n",
       " 'box_office': '$218.1M',\n",
       " 'runtime': '3h 7m'}"
      ]
     },
     "execution_count": 10,
     "metadata": {},
     "output_type": "execute_result"
    }
   ],
   "source": [
    "records[1758]"
   ]
  },
  {
   "cell_type": "code",
   "execution_count": 11,
   "metadata": {},
   "outputs": [
    {
     "data": {
      "text/plain": [
       "[{'title': 'King Kong',\n",
       "  'synopsis': \"Peter Jackson's expansive remake of the 1933 classic follows director Carl Denham (Jack Black) and his crew on a journey from New York City to the ominous Skull Island to film a new movie. Accompanying him are playwright Jack Driscoll (Adrien Brody) and actress Ann Darrow (Naomi Watts), who is whisked away by the monstrous ape, Kong, after they reach the island. The crew encounters dinosaurs and other creatures as they race to rescue Ann, while the actress forms a bond with her simian captor.\",\n",
       "  'consensus': \"Featuring state-of-the-art special effects, terrific performances, and a majestic sense of spectacle, Peter Jackson's remake of King Kong is a potent epic that's faithful to the spirit of the 1933 original.\",\n",
       "  'critics_score': '84%',\n",
       "  'audience_score': '50%',\n",
       "  'director': 'Peter Jackson',\n",
       "  'producer': 'Jan Blenkin, Carolynne Cunningham, Fran Walsh',\n",
       "  'screenwriter': 'Merian C. Cooper, Edgar Wallace, Fran Walsh, Peter Jackson, Philippa Boyens',\n",
       "  'rating': 'PG-13 ',\n",
       "  'genre': 'Adventure, Action, Fantasy',\n",
       "  'original_language': 'English',\n",
       "  'release_date_theaters': 'Dec 14, 2005, Wide',\n",
       "  'release_date_streaming': 'Oct 1, 2015',\n",
       "  'box_office': '$218.1M',\n",
       "  'runtime': '3h 7m'},\n",
       " {'title': 'Hook',\n",
       "  'synopsis': 'When his young children are abducted by his old nemesis, Capt. Hook (Dustin Hoffman), middle-aged lawyer Peter Banning (Robin Williams) returns to his magical origins as Peter Pan. Peter must revisit a foggy past in which he abandoned Neverland for family life, leaving Tinkerbell (Julia Roberts) and the Lost Boys to fend for themselves. Given their bitterness toward Peter for growing up -- and their allegiance to their new leader, Rufio -- the old gang may not be happy to see him.',\n",
       "  'consensus': 'The look of Hook is lively indeed but Steven Spielberg directs on autopilot here, giving in too quickly to his sentimental, syrupy qualities.',\n",
       "  'critics_score': '29%',\n",
       "  'audience_score': '76%',\n",
       "  'director': 'Steven Spielberg',\n",
       "  'producer': 'Kathleen Kennedy, Frank Marshall, Gerald R. Molen',\n",
       "  'screenwriter': 'James V. Hart, Malia Scotch Marmo',\n",
       "  'rating': 'PG',\n",
       "  'genre': 'Kids & Family, Fantasy, Adventure',\n",
       "  'original_language': 'English',\n",
       "  'release_date_theaters': 'Dec 11, 1991, Original',\n",
       "  'release_date_streaming': 'Apr 16, 2012',\n",
       "  'box_office': '$116.3M',\n",
       "  'runtime': '2h 24m'},\n",
       " {'title': 'Bad Taste',\n",
       "  'synopsis': 'Gun-toting assassins try to wipe out a group of aliens that wants to use humans in New Zealand for food.',\n",
       "  'consensus': \"Peter Jackson's early low-budget shocker boasts a disgusting premise - aliens harvesting humans for fast food - that gives the budding auteur plenty of room for gross-out visuals and absurd cleverness.\",\n",
       "  'critics_score': '73%',\n",
       "  'audience_score': '75%',\n",
       "  'director': 'Peter Jackson',\n",
       "  'producer': 'Peter Jackson',\n",
       "  'screenwriter': 'Ken Hammon, Tony Hiles, Peter Jackson',\n",
       "  'rating': None,\n",
       "  'genre': 'Horror, Sci-Fi, Comedy',\n",
       "  'original_language': 'English',\n",
       "  'release_date_theaters': 'Dec 12, 1987, Original',\n",
       "  'release_date_streaming': 'Mar 23, 2017',\n",
       "  'box_office': None,\n",
       "  'runtime': '1h 32m'},\n",
       " {'title': 'The Hobbit: The Battle of the Five Armies',\n",
       "  'synopsis': \"Having reclaimed Erebor and vast treasure from the dragon Smaug, Thorin Oakenshield (Richard Armitage) sacrifices friendship and honor in seeking the Arkenstone, despite Smaug's fiery wrath and desperate attempts by the Hobbit Bilbo (Martin Freeman) to make him see reason. Meanwhile, Sauron sends legions of Orcs in a sneak attack upon the Lonely Mountain. As the fate of Middle Earth hangs in the balance, the races of Men, Elves and Dwarves must decide whether to unite and prevail -- or all die.\",\n",
       "  'consensus': \"Though somewhat overwhelmed by its own spectacle, The Hobbit: The Battle of the Five Armies ends Peter Jackson's second Middle-earth trilogy on a reasonably satisfying note.\",\n",
       "  'critics_score': '59%',\n",
       "  'audience_score': '74%',\n",
       "  'director': 'Peter Jackson',\n",
       "  'producer': 'Carolynne Cunningham, Zane Weiner, Fran Walsh, Peter Jackson, Eric Monette',\n",
       "  'screenwriter': 'Fran Walsh, Philippa Boyens, Peter Jackson, Guillermo del Toro',\n",
       "  'rating': 'PG-13 ',\n",
       "  'genre': 'Fantasy, Adventure, Action',\n",
       "  'original_language': 'English',\n",
       "  'release_date_theaters': 'Dec 17, 2014, Wide',\n",
       "  'release_date_streaming': 'Mar 3, 2015',\n",
       "  'box_office': '$255.1M',\n",
       "  'runtime': '2h 24m'},\n",
       " {'title': 'They Shall Not Grow Old',\n",
       "  'synopsis': 'Using state-of-the-art technology and materials from the BBC and Imperial War Museum, filmmaker Peter Jackson allows the story of World War I to be told by the men who were there. Life on the front is explored through the voices of the soldiers, who discuss their feelings about the conflict, the food they ate, the friends they made and their dreams of the future.',\n",
       "  'consensus': 'An impressive technical achievement with a walloping emotional impact, They Shall Not Grow Old pays brilliant cinematic tribute to the sacrifice of a generation.',\n",
       "  'critics_score': '99%',\n",
       "  'audience_score': '91%',\n",
       "  'director': 'Peter Jackson',\n",
       "  'producer': 'Peter Jackson, Clare Olssen',\n",
       "  'screenwriter': 'Peter Jackson, Clare Olssen',\n",
       "  'rating': 'R ',\n",
       "  'genre': 'Documentary, History, Drama, War',\n",
       "  'original_language': 'British English',\n",
       "  'release_date_theaters': 'Feb 1, 2019, Wide',\n",
       "  'release_date_streaming': 'Mar 12, 2019',\n",
       "  'box_office': '$18.0M',\n",
       "  'runtime': '1h 39m'}]"
      ]
     },
     "execution_count": 11,
     "metadata": {},
     "output_type": "execute_result"
    }
   ],
   "source": [
    "class VectorSearchEngine():\n",
    "    def __init__(self, documents, embeddings):\n",
    "        self.documents = documents\n",
    "        self.embeddings = embeddings\n",
    "\n",
    "    def search(self, v_query, num_results=10):\n",
    "        scores = self.embeddings.dot(v_query)\n",
    "        idx = np.argsort(-scores)[:num_results]\n",
    "        return [self.documents[i] for i in idx]\n",
    "\n",
    "search_engine = VectorSearchEngine(documents=records, embeddings=X)\n",
    "search_engine.search(encoded_question, num_results=5)"
   ]
  },
  {
   "cell_type": "markdown",
   "metadata": {},
   "source": [
    "## 5. Indexing"
   ]
  },
  {
   "cell_type": "code",
   "execution_count": 12,
   "metadata": {},
   "outputs": [],
   "source": [
    "es_client = Elasticsearch(\"http://localhost:9200\")"
   ]
  },
  {
   "cell_type": "code",
   "execution_count": 13,
   "metadata": {},
   "outputs": [
    {
     "data": {
      "text/plain": [
       "ObjectApiResponse({'acknowledged': True, 'shards_acknowledged': True, 'index': 'movies_at_home'})"
      ]
     },
     "execution_count": 13,
     "metadata": {},
     "output_type": "execute_result"
    }
   ],
   "source": [
    "index_name = \"movies_at_home\"\n",
    "\n",
    "dense_vector_type = {\n",
    "    \"type\": \"dense_vector\",\n",
    "    \"dims\": 768,\n",
    "    \"index\": True,\n",
    "    \"similarity\": \"cosine\",\n",
    "}\n",
    "\n",
    "index_settings = {\n",
    "    \"settings\": {\"number_of_shards\": 1, \"number_of_replicas\": 0},\n",
    "    \"mappings\": {\n",
    "        \"properties\": {\n",
    "            \"title\": {\"type\": \"text\"},\n",
    "            \"synopsis\": {\"type\": \"text\"},\n",
    "            \"consensus\": {\"type\": \"text\"},\n",
    "            \"critics_score\": {\"type\": \"text\"},\n",
    "            \"audience_score\": {\"type\": \"text\"},\n",
    "            \"director\": {\"type\": \"text\"},\n",
    "            \"producer\": {\"type\": \"text\"},\n",
    "            \"screenwriter\": {\"type\": \"text\"},\n",
    "            \"rating\": {\"type\": \"text\"},\n",
    "            \"genre\": {\"type\": \"text\"},\n",
    "            \"original_language\": {\"type\": \"text\"},\n",
    "            \"release_date_theaters\": {\"type\": \"text\"},\n",
    "            \"release_date_streaming\": {\"type\": \"text\"},\n",
    "            \"box_office\": {\"type\": \"text\"},\n",
    "            \"id\": {\"type\": \"text\"},\n",
    "            \"title_vector\": dense_vector_type,\n",
    "            \"synopsis_vector\": dense_vector_type,\n",
    "            \"consensus_vector\": dense_vector_type,\n",
    "            \"director_vector\": dense_vector_type,\n",
    "            \"genre_vector\": dense_vector_type,\n",
    "            \"syn_con_dir_gen_vector\": dense_vector_type,\n",
    "        }\n",
    "    }\n",
    "}\n",
    "\n",
    "es_client.indices.delete(index=index_name, ignore_unavailable=True)\n",
    "es_client.indices.create(index=index_name, body=index_settings)"
   ]
  },
  {
   "cell_type": "code",
   "execution_count": 15,
   "metadata": {},
   "outputs": [
    {
     "name": "stderr",
     "output_type": "stream",
     "text": [
      "100%|██████████| 9969/9969 [05:09<00:00, 32.17it/s]\n"
     ]
    }
   ],
   "source": [
    "def encode(text: str):\n",
    "    try:\n",
    "        return embedding_model.encode(text)\n",
    "    except TypeError:\n",
    "        return embedding_model.encode(\"No entry\")\n",
    "\n",
    "\n",
    "for i in tqdm(range(len(records))):\n",
    "    title = records[i][\"title\"]\n",
    "    synopsis = records[i][\"synopsis\"]\n",
    "    consensus = records[i][\"consensus\"]\n",
    "    director = records[i][\"director\"]\n",
    "    genre = records[i][\"genre\"]\n",
    "\n",
    "    records[i][\"id\"] = f\"{(i+1):06d}\"\n",
    "    records[i][\"title_vector\"] = encode(title)\n",
    "    records[i][\"synopsis_vector\"] = encode(synopsis)\n",
    "    records[i][\"consensus_vector\"] = encode(consensus)\n",
    "    records[i][\"director_vector\"] = encode(director)\n",
    "    records[i][\"genre_vector\"] = encode(genre)\n",
    "    records[i][\"syn_con_dir_gen_vector\"] = X[i]\n",
    "\n",
    "    es_client.index(index=index_name, document=records[i])"
   ]
  },
  {
   "cell_type": "code",
   "execution_count": 16,
   "metadata": {},
   "outputs": [
    {
     "data": {
      "text/plain": [
       "9969"
      ]
     },
     "execution_count": 16,
     "metadata": {},
     "output_type": "execute_result"
    }
   ],
   "source": [
    "len(records)"
   ]
  },
  {
   "cell_type": "markdown",
   "metadata": {},
   "source": [
    "## 6. Vector search with Elasticsearch"
   ]
  },
  {
   "cell_type": "code",
   "execution_count": 39,
   "metadata": {},
   "outputs": [],
   "source": [
    "def elastic_knn_search(vector: np.ndarray, field=\"syn_con_dir_gen_vector\"):\n",
    "    \n",
    "    knn = {\n",
    "        \"field\": field,\n",
    "        \"query_vector\": vector,\n",
    "        \"k\": 5,\n",
    "        \"num_candidates\": 10000\n",
    "    }\n",
    "\n",
    "    es_results = es_client.search(\n",
    "        index=index_name,\n",
    "        knn=knn,\n",
    "        source=[\"title\", \"synopsis\", \"consensus\", \"director\", \"genre\", \"critics_score\", \"audience_score\"]\n",
    "    )\n",
    "\n",
    "    results = []\n",
    "    for hit in es_results['hits']['hits']:\n",
    "        results.append(hit['_source'])\n",
    "    \n",
    "    return results"
   ]
  },
  {
   "cell_type": "code",
   "execution_count": 37,
   "metadata": {},
   "outputs": [
    {
     "data": {
      "text/plain": [
       "[{'title': 'King Kong',\n",
       "  'synopsis': \"Peter Jackson's expansive remake of the 1933 classic follows director Carl Denham (Jack Black) and his crew on a journey from New York City to the ominous Skull Island to film a new movie. Accompanying him are playwright Jack Driscoll (Adrien Brody) and actress Ann Darrow (Naomi Watts), who is whisked away by the monstrous ape, Kong, after they reach the island. The crew encounters dinosaurs and other creatures as they race to rescue Ann, while the actress forms a bond with her simian captor.\",\n",
       "  'consensus': \"Featuring state-of-the-art special effects, terrific performances, and a majestic sense of spectacle, Peter Jackson's remake of King Kong is a potent epic that's faithful to the spirit of the 1933 original.\",\n",
       "  'critics_score': '84%',\n",
       "  'audience_score': '50%',\n",
       "  'director': 'Peter Jackson',\n",
       "  'genre': 'Adventure, Action, Fantasy'},\n",
       " {'title': 'Hook',\n",
       "  'synopsis': 'When his young children are abducted by his old nemesis, Capt. Hook (Dustin Hoffman), middle-aged lawyer Peter Banning (Robin Williams) returns to his magical origins as Peter Pan. Peter must revisit a foggy past in which he abandoned Neverland for family life, leaving Tinkerbell (Julia Roberts) and the Lost Boys to fend for themselves. Given their bitterness toward Peter for growing up -- and their allegiance to their new leader, Rufio -- the old gang may not be happy to see him.',\n",
       "  'consensus': 'The look of Hook is lively indeed but Steven Spielberg directs on autopilot here, giving in too quickly to his sentimental, syrupy qualities.',\n",
       "  'critics_score': '29%',\n",
       "  'audience_score': '76%',\n",
       "  'director': 'Steven Spielberg',\n",
       "  'genre': 'Kids & Family, Fantasy, Adventure'},\n",
       " {'title': 'Bad Taste',\n",
       "  'synopsis': 'Gun-toting assassins try to wipe out a group of aliens that wants to use humans in New Zealand for food.',\n",
       "  'consensus': \"Peter Jackson's early low-budget shocker boasts a disgusting premise - aliens harvesting humans for fast food - that gives the budding auteur plenty of room for gross-out visuals and absurd cleverness.\",\n",
       "  'critics_score': '73%',\n",
       "  'audience_score': '75%',\n",
       "  'director': 'Peter Jackson',\n",
       "  'genre': 'Horror, Sci-Fi, Comedy'},\n",
       " {'title': 'The Hobbit: The Battle of the Five Armies',\n",
       "  'synopsis': \"Having reclaimed Erebor and vast treasure from the dragon Smaug, Thorin Oakenshield (Richard Armitage) sacrifices friendship and honor in seeking the Arkenstone, despite Smaug's fiery wrath and desperate attempts by the Hobbit Bilbo (Martin Freeman) to make him see reason. Meanwhile, Sauron sends legions of Orcs in a sneak attack upon the Lonely Mountain. As the fate of Middle Earth hangs in the balance, the races of Men, Elves and Dwarves must decide whether to unite and prevail -- or all die.\",\n",
       "  'consensus': \"Though somewhat overwhelmed by its own spectacle, The Hobbit: The Battle of the Five Armies ends Peter Jackson's second Middle-earth trilogy on a reasonably satisfying note.\",\n",
       "  'critics_score': '59%',\n",
       "  'audience_score': '74%',\n",
       "  'director': 'Peter Jackson',\n",
       "  'genre': 'Fantasy, Adventure, Action'},\n",
       " {'title': 'They Shall Not Grow Old',\n",
       "  'synopsis': 'Using state-of-the-art technology and materials from the BBC and Imperial War Museum, filmmaker Peter Jackson allows the story of World War I to be told by the men who were there. Life on the front is explored through the voices of the soldiers, who discuss their feelings about the conflict, the food they ate, the friends they made and their dreams of the future.',\n",
       "  'consensus': 'An impressive technical achievement with a walloping emotional impact, They Shall Not Grow Old pays brilliant cinematic tribute to the sacrifice of a generation.',\n",
       "  'critics_score': '99%',\n",
       "  'audience_score': '91%',\n",
       "  'director': 'Peter Jackson',\n",
       "  'genre': 'Documentary, History, Drama, War'}]"
      ]
     },
     "execution_count": 37,
     "metadata": {},
     "output_type": "execute_result"
    }
   ],
   "source": [
    "es_results = elastic_knn_search(encoded_question)\n",
    "es_results"
   ]
  },
  {
   "cell_type": "markdown",
   "metadata": {},
   "source": [
    "## 7. Generating answer with an llm"
   ]
  },
  {
   "cell_type": "code",
   "execution_count": 45,
   "metadata": {},
   "outputs": [],
   "source": [
    "def build_prompt(query, search_results):\n",
    "    template = \"\"\"\n",
    "You are a movie expert. Using your knowledge and based on the CONTEXT provided\n",
    "below, do your best to give movie recommendations that will satisfy the person\n",
    "that is asking. Make sure your recommendations are not biased by gender, ethnicity,\n",
    "age, religion and so on. Consider critics and audience scores when giving your\n",
    "recommendations.\n",
    "\n",
    "QUESTION: {question}\n",
    "\n",
    "CONTEXT: {context}\n",
    "\"\"\".strip()\n",
    "\n",
    "    context = \"\"\n",
    "    for doc in search_results:\n",
    "        context += f\"title: {doc['title']}\\nsynopsis: {doc['synopsis']}\\ncritics consensus: {doc['consensus']}\\ndirector: {doc['director']}\\ngenre: {doc['genre']}\\ncritics score: {doc['critics_score']}\\naudience score: {doc['audience_score']}\\n\\n\"\n",
    "\n",
    "    prompt = template.format(question=query, context=context).strip()\n",
    "    return prompt\n",
    "\n",
    "\n",
    "client = OpenAI(base_url=\"http://localhost:11434/v1\", api_key=\"ollama\")\n",
    "\n",
    "\n",
    "def run_llm(prompt, model=\"llama3.2\"):\n",
    "    response = client.chat.completions.create(\n",
    "        model=model, messages=[{\"role\": \"user\", \"content\": prompt}]\n",
    "    )\n",
    "\n",
    "    return response.choices[0].message.content\n",
    "\n",
    "\n",
    "def search(query):\n",
    "    vector_query = embedding_model.encode(query[\"question\"])\n",
    "    return elastic_knn_search(vector_query)\n",
    "\n",
    "\n",
    "def rag(query: dict, model=\"llama3.2\") -> str:\n",
    "    search_results = search(query)\n",
    "    prompt = build_prompt(query[\"question\"], search_results)\n",
    "    answer = run_llm(prompt, model=model)\n",
    "    return answer"
   ]
  },
  {
   "cell_type": "code",
   "execution_count": 48,
   "metadata": {},
   "outputs": [
    {
     "name": "stdout",
     "output_type": "stream",
     "text": [
      "Based on your interest in action movies with lots of violence like John Wick and The Punisher, I'd like to recommend the following films:\n",
      "\n",
      "1. **Atomic Blonde** (2017) - With a 69% critics score and an audience score of 87%, this spy thriller starring Charlize Theron has plenty of intense hand-to-hand combat sequences and high-stakes action.\n",
      "2. **The Accountant** (2016) - Despite having a relatively low budget, this action movie stars Ben Affleck as a socially awkward accountant who moonlights as a deadly assassin. It boasts an 83% audience score and is known for its graphic violence.\n",
      "3. **Taken** (2008) - This high-octane action film starring Liam Neeson follows a former CIA operative as he battles kidnappers and corrupt officials to rescue his daughter. With a 74% critical consensus and an impressive 95% audience score, it's a must-watch for fans of intense action.\n",
      "4. **The Raid: Redemption** (2011) - This Indonesian martial arts film was praised by critics for its non-stop action sequences and impressive fighting choreography. It has a 78% audience score and is widely regarded as one of the best action movies of all time.\n",
      "5. **Dredd** (2012) - Based on the classic comic book character, this sci-fi action film stars Karl Urban as a lawman who enforces the justice system in a dystopian future. With an 84% critical consensus and a loyal fan base, it's a great choice for fans of intense action.\n",
      "\n",
      "More recently, I'd recommend:\n",
      "\n",
      "1. **Bullet Train** (2022) - Starring Brad Pitt, this action movie boasts an impressive 86% audience score and features high-stakes action sequences and memorable performances.\n",
      "2. **No Time to Die** (2021) - The latest James Bond installment, starring Daniel Craig, offers plenty of intense action set pieces and impressive stunts. It has a 70% critical consensus and a loyal fan base among Bond enthusiasts.\n",
      "\n",
      "Please keep in mind that while these movies have received high praise, they may not be perfect representations of the violence level you're looking for, as individual tolerance for on-screen bloodshed or content can vary greatly.\n"
     ]
    }
   ],
   "source": [
    "print(rag({'question': 'recommend me action movies with lots of violence like john wick'}))"
   ]
  },
  {
   "cell_type": "code",
   "execution_count": null,
   "metadata": {},
   "outputs": [],
   "source": []
  }
 ],
 "metadata": {
  "kernelspec": {
   "display_name": "rag-project-ARFeLLCJ",
   "language": "python",
   "name": "python3"
  },
  "language_info": {
   "codemirror_mode": {
    "name": "ipython",
    "version": 3
   },
   "file_extension": ".py",
   "mimetype": "text/x-python",
   "name": "python",
   "nbconvert_exporter": "python",
   "pygments_lexer": "ipython3",
   "version": "3.10.12"
  }
 },
 "nbformat": 4,
 "nbformat_minor": 2
}
